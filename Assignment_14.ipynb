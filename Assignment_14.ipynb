{
  "nbformat": 4,
  "nbformat_minor": 0,
  "metadata": {
    "colab": {
      "name": "Assignment 14.ipynb",
      "provenance": [],
      "authorship_tag": "ABX9TyM8f0uchub7/CdLG1e+uVUk",
      "include_colab_link": true
    },
    "kernelspec": {
      "name": "python3",
      "display_name": "Python 3"
    },
    "language_info": {
      "name": "python"
    }
  },
  "cells": [
    {
      "cell_type": "markdown",
      "metadata": {
        "id": "view-in-github",
        "colab_type": "text"
      },
      "source": [
        "<a href=\"https://colab.research.google.com/github/LeenaGannu/NNDL/blob/main/Assignment_14.ipynb\" target=\"_parent\"><img src=\"https://colab.research.google.com/assets/colab-badge.svg\" alt=\"Open In Colab\"/></a>"
      ]
    },
    {
      "cell_type": "code",
      "metadata": {
        "id": "29gUiaMutamv"
      },
      "source": [
        "import numpy as np\n",
        "import matplotlib.pyplot as plt\n",
        "import pandas as pd\n",
        "from sklearn.preprocessing import minmax_scale\n",
        "from sklearn.model_selection import train_test_split\n",
        "import seaborn as sns\n",
        "from scipy import stats"
      ],
      "execution_count": 1,
      "outputs": []
    },
    {
      "cell_type": "markdown",
      "metadata": {
        "id": "WKPyY4WNtycE"
      },
      "source": [
        "Read Data"
      ]
    },
    {
      "cell_type": "code",
      "metadata": {
        "colab": {
          "base_uri": "https://localhost:8080/",
          "height": 204
        },
        "id": "_p0H-1ortq9X",
        "outputId": "02925086-8a25-4b0b-9a1c-79e481d317ac"
      },
      "source": [
        "data = pd.read_excel(\"/content/Load_Data_in_kW (2).xlsx\",header=None)\n",
        "data.head()"
      ],
      "execution_count": 2,
      "outputs": [
        {
          "output_type": "execute_result",
          "data": {
            "text/html": [
              "<div>\n",
              "<style scoped>\n",
              "    .dataframe tbody tr th:only-of-type {\n",
              "        vertical-align: middle;\n",
              "    }\n",
              "\n",
              "    .dataframe tbody tr th {\n",
              "        vertical-align: top;\n",
              "    }\n",
              "\n",
              "    .dataframe thead th {\n",
              "        text-align: right;\n",
              "    }\n",
              "</style>\n",
              "<table border=\"1\" class=\"dataframe\">\n",
              "  <thead>\n",
              "    <tr style=\"text-align: right;\">\n",
              "      <th></th>\n",
              "      <th>0</th>\n",
              "    </tr>\n",
              "  </thead>\n",
              "  <tbody>\n",
              "    <tr>\n",
              "      <th>0</th>\n",
              "      <td>5551.82208</td>\n",
              "    </tr>\n",
              "    <tr>\n",
              "      <th>1</th>\n",
              "      <td>4983.17184</td>\n",
              "    </tr>\n",
              "    <tr>\n",
              "      <th>2</th>\n",
              "      <td>4888.39680</td>\n",
              "    </tr>\n",
              "    <tr>\n",
              "      <th>3</th>\n",
              "      <td>5072.95872</td>\n",
              "    </tr>\n",
              "    <tr>\n",
              "      <th>4</th>\n",
              "      <td>5196.25980</td>\n",
              "    </tr>\n",
              "  </tbody>\n",
              "</table>\n",
              "</div>"
            ],
            "text/plain": [
              "            0\n",
              "0  5551.82208\n",
              "1  4983.17184\n",
              "2  4888.39680\n",
              "3  5072.95872\n",
              "4  5196.25980"
            ]
          },
          "metadata": {
            "tags": []
          },
          "execution_count": 2
        }
      ]
    },
    {
      "cell_type": "code",
      "metadata": {
        "colab": {
          "base_uri": "https://localhost:8080/"
        },
        "id": "GLssYmjzuCqh",
        "outputId": "6a54985f-6be1-4134-aecf-c48d0918d641"
      },
      "source": [
        "data.info()"
      ],
      "execution_count": 3,
      "outputs": [
        {
          "output_type": "stream",
          "text": [
            "<class 'pandas.core.frame.DataFrame'>\n",
            "RangeIndex: 2184 entries, 0 to 2183\n",
            "Data columns (total 1 columns):\n",
            " #   Column  Non-Null Count  Dtype  \n",
            "---  ------  --------------  -----  \n",
            " 0   0       2184 non-null   float64\n",
            "dtypes: float64(1)\n",
            "memory usage: 17.2 KB\n"
          ],
          "name": "stdout"
        }
      ]
    },
    {
      "cell_type": "markdown",
      "metadata": {
        "id": "LIF8Z9bduNWA"
      },
      "source": [
        "Outliers"
      ]
    },
    {
      "cell_type": "code",
      "metadata": {
        "colab": {
          "base_uri": "https://localhost:8080/"
        },
        "id": "ezE4fiXzuIxX",
        "outputId": "4710658b-a029-4ed6-b893-47e5ca248bef"
      },
      "source": [
        "z = np.abs(stats.zscore(data))\n",
        "print(z)\n"
      ],
      "execution_count": 4,
      "outputs": [
        {
          "output_type": "stream",
          "text": [
            "[[0.04910416]\n",
            " [0.08229029]\n",
            " [0.08782131]\n",
            " ...\n",
            " [0.09743692]\n",
            " [0.07253822]\n",
            " [0.03181432]]\n"
          ],
          "name": "stdout"
        }
      ]
    },
    {
      "cell_type": "code",
      "metadata": {
        "colab": {
          "base_uri": "https://localhost:8080/",
          "height": 296
        },
        "id": "5H92wb4ouROq",
        "outputId": "be778178-a0e8-4e89-b5d3-712e6b00713c"
      },
      "source": [
        "sns.boxplot(x=data[0])"
      ],
      "execution_count": 5,
      "outputs": [
        {
          "output_type": "execute_result",
          "data": {
            "text/plain": [
              "<matplotlib.axes._subplots.AxesSubplot at 0x7fbdd88ac210>"
            ]
          },
          "metadata": {
            "tags": []
          },
          "execution_count": 5
        },
        {
          "output_type": "display_data",
          "data": {
            "image/png": "[encoded data removed]",
            "text/plain": [
              "<Figure size 432x288 with 1 Axes>"
            ]
          },
          "metadata": {
            "tags": [],
            "needs_background": "light"
          }
        }
      ]
    },
    {
      "cell_type": "code",
      "metadata": {
        "colab": {
          "base_uri": "https://localhost:8080/",
          "height": 204
        },
        "id": "cX9XbnSFuXJS",
        "outputId": "adf5b8fa-1c81-4f95-c1fc-71e43d05967b"
      },
      "source": [
        "df = data\n",
        "q = df[0].quantile(0.99)\n",
        "df[df[0] < q]\n",
        "q_low = df[0].quantile(0.01)\n",
        "q_hi  = df[0].quantile(0.99)\n",
        "\n",
        "df_filtered = df[(df[0] < q_hi) & (df[0] > q_low)]\n",
        "df_filtered.head()"
      ],
      "execution_count": 6,
      "outputs": [
        {
          "output_type": "execute_result",
          "data": {
            "text/html": [
              "<div>\n",
              "<style scoped>\n",
              "    .dataframe tbody tr th:only-of-type {\n",
              "        vertical-align: middle;\n",
              "    }\n",
              "\n",
              "    .dataframe tbody tr th {\n",
              "        vertical-align: top;\n",
              "    }\n",
              "\n",
              "    .dataframe thead th {\n",
              "        text-align: right;\n",
              "    }\n",
              "</style>\n",
              "<table border=\"1\" class=\"dataframe\">\n",
              "  <thead>\n",
              "    <tr style=\"text-align: right;\">\n",
              "      <th></th>\n",
              "      <th>0</th>\n",
              "    </tr>\n",
              "  </thead>\n",
              "  <tbody>\n",
              "    <tr>\n",
              "      <th>0</th>\n",
              "      <td>5551.82208</td>\n",
              "    </tr>\n",
              "    <tr>\n",
              "      <th>1</th>\n",
              "      <td>4983.17184</td>\n",
              "    </tr>\n",
              "    <tr>\n",
              "      <th>2</th>\n",
              "      <td>4888.39680</td>\n",
              "    </tr>\n",
              "    <tr>\n",
              "      <th>3</th>\n",
              "      <td>5072.95872</td>\n",
              "    </tr>\n",
              "    <tr>\n",
              "      <th>4</th>\n",
              "      <td>5196.25980</td>\n",
              "    </tr>\n",
              "  </tbody>\n",
              "</table>\n",
              "</div>"
            ],
            "text/plain": [
              "            0\n",
              "0  5551.82208\n",
              "1  4983.17184\n",
              "2  4888.39680\n",
              "3  5072.95872\n",
              "4  5196.25980"
            ]
          },
          "metadata": {
            "tags": []
          },
          "execution_count": 6
        }
      ]
    },
    {
      "cell_type": "code",
      "metadata": {
        "colab": {
          "base_uri": "https://localhost:8080/"
        },
        "id": "jMj470pzucZn",
        "outputId": "4fa6782e-4ee4-455a-cb95-3d96340e1693"
      },
      "source": [
        "print(len(data))\n",
        "print(len(df_filtered))\n",
        "if(len(data) == len(df_filtered)):\n",
        "    print('No outliners')\n"
      ],
      "execution_count": 7,
      "outputs": [
        {
          "output_type": "stream",
          "text": [
            "2184\n",
            "2140\n"
          ],
          "name": "stdout"
        }
      ]
    },
    {
      "cell_type": "markdown",
      "metadata": {
        "id": "clCdpAF8uhPi"
      },
      "source": [
        "Normalization"
      ]
    },
    {
      "cell_type": "code",
      "metadata": {
        "colab": {
          "base_uri": "https://localhost:8080/",
          "height": 204
        },
        "id": "bIC7SPuAukas",
        "outputId": "fc003a6f-8536-4597-bfb1-ac534c1bf54e"
      },
      "source": [
        "data = df_filtered\n",
        "data_n = data.copy()\n",
        "data_n = (data_n - data_n.min())/(data_n.max() - data_n.min())\n",
        "data_n.head()"
      ],
      "execution_count": 8,
      "outputs": [
        {
          "output_type": "execute_result",
          "data": {
            "text/html": [
              "<div>\n",
              "<style scoped>\n",
              "    .dataframe tbody tr th:only-of-type {\n",
              "        vertical-align: middle;\n",
              "    }\n",
              "\n",
              "    .dataframe tbody tr th {\n",
              "        vertical-align: top;\n",
              "    }\n",
              "\n",
              "    .dataframe thead th {\n",
              "        text-align: right;\n",
              "    }\n",
              "</style>\n",
              "<table border=\"1\" class=\"dataframe\">\n",
              "  <thead>\n",
              "    <tr style=\"text-align: right;\">\n",
              "      <th></th>\n",
              "      <th>0</th>\n",
              "    </tr>\n",
              "  </thead>\n",
              "  <tbody>\n",
              "    <tr>\n",
              "      <th>0</th>\n",
              "      <td>0.372950</td>\n",
              "    </tr>\n",
              "    <tr>\n",
              "      <th>1</th>\n",
              "      <td>0.254941</td>\n",
              "    </tr>\n",
              "    <tr>\n",
              "      <th>2</th>\n",
              "      <td>0.235273</td>\n",
              "    </tr>\n",
              "    <tr>\n",
              "      <th>3</th>\n",
              "      <td>0.273574</td>\n",
              "    </tr>\n",
              "    <tr>\n",
              "      <th>4</th>\n",
              "      <td>0.299162</td>\n",
              "    </tr>\n",
              "  </tbody>\n",
              "</table>\n",
              "</div>"
            ],
            "text/plain": [
              "          0\n",
              "0  0.372950\n",
              "1  0.254941\n",
              "2  0.235273\n",
              "3  0.273574\n",
              "4  0.299162"
            ]
          },
          "metadata": {
            "tags": []
          },
          "execution_count": 8
        }
      ]
    },
    {
      "cell_type": "markdown",
      "metadata": {
        "id": "tsUUQ45bu8dr"
      },
      "source": [
        "Split Data"
      ]
    },
    {
      "cell_type": "code",
      "metadata": {
        "id": "p6x5a2ZPu3eC"
      },
      "source": [
        "train_data,test_data = train_test_split(data_n,test_size=0.1)"
      ],
      "execution_count": 9,
      "outputs": []
    },
    {
      "cell_type": "code",
      "metadata": {
        "colab": {
          "base_uri": "https://localhost:8080/",
          "height": 221
        },
        "id": "eA5TT9covA_Q",
        "outputId": "26b00130-1922-4067-c575-df9ffaa3f205"
      },
      "source": [
        "print(len(train_data))\n",
        "train_data.head()\n"
      ],
      "execution_count": 10,
      "outputs": [
        {
          "output_type": "stream",
          "text": [
            "1926\n"
          ],
          "name": "stdout"
        },
        {
          "output_type": "execute_result",
          "data": {
            "text/html": [
              "<div>\n",
              "<style scoped>\n",
              "    .dataframe tbody tr th:only-of-type {\n",
              "        vertical-align: middle;\n",
              "    }\n",
              "\n",
              "    .dataframe tbody tr th {\n",
              "        vertical-align: top;\n",
              "    }\n",
              "\n",
              "    .dataframe thead th {\n",
              "        text-align: right;\n",
              "    }\n",
              "</style>\n",
              "<table border=\"1\" class=\"dataframe\">\n",
              "  <thead>\n",
              "    <tr style=\"text-align: right;\">\n",
              "      <th></th>\n",
              "      <th>0</th>\n",
              "    </tr>\n",
              "  </thead>\n",
              "  <tbody>\n",
              "    <tr>\n",
              "      <th>1135</th>\n",
              "      <td>0.169443</td>\n",
              "    </tr>\n",
              "    <tr>\n",
              "      <th>991</th>\n",
              "      <td>0.555203</td>\n",
              "    </tr>\n",
              "    <tr>\n",
              "      <th>1138</th>\n",
              "      <td>0.351211</td>\n",
              "    </tr>\n",
              "    <tr>\n",
              "      <th>561</th>\n",
              "      <td>0.502992</td>\n",
              "    </tr>\n",
              "    <tr>\n",
              "      <th>1133</th>\n",
              "      <td>0.165788</td>\n",
              "    </tr>\n",
              "  </tbody>\n",
              "</table>\n",
              "</div>"
            ],
            "text/plain": [
              "             0\n",
              "1135  0.169443\n",
              "991   0.555203\n",
              "1138  0.351211\n",
              "561   0.502992\n",
              "1133  0.165788"
            ]
          },
          "metadata": {
            "tags": []
          },
          "execution_count": 10
        }
      ]
    },
    {
      "cell_type": "code",
      "metadata": {
        "id": "ClJMHxE0vFQZ"
      },
      "source": [
        "xa = []\n",
        "ya = []\n",
        "for i in range(len(train_data.iloc[:,0])-24):\n",
        "    xa.append(train_data.iloc[i,0])\n",
        "    ya.append(train_data.iloc[i+24,0])"
      ],
      "execution_count": 11,
      "outputs": []
    },
    {
      "cell_type": "markdown",
      "metadata": {
        "id": "cfq1K-bVvLci"
      },
      "source": [
        "Train Data"
      ]
    },
    {
      "cell_type": "code",
      "metadata": {
        "colab": {
          "base_uri": "https://localhost:8080/"
        },
        "id": "OwLARbE1vNmI",
        "outputId": "2109f967-b332-47e8-f764-4d370338fc10"
      },
      "source": [
        "from sympy import Symbol, Derivative, symbols\n",
        "m= Symbol('m')\n",
        "c= Symbol('c')\n",
        "function = '0.5*(y-m*x-c)**2'\n",
        "partialderiv= Derivative(function, m)\n",
        "dfm = partialderiv.doit()\n",
        "partialderiv= Derivative(function, c)\n",
        "dfc = partialderiv.doit()\n",
        "err = []\n",
        "print(f'first order derivatives of given function are de/dm = {dfm} ,de/dc = {dfc}')\n",
        "\n",
        "#step 1 initialise values \n",
        "m1 = 1.0 \n",
        "c1 = -1.0  #variable x, y\n",
        "itr = 20  #epoches\n",
        "GM = 0\n",
        "GC = 0\n",
        "ep = 10**(-8)\n",
        "learning_rate = 0.1  #learning rate\n",
        "for i in range(0,itr):\n",
        "    er = 0\n",
        "    for j in range(0,len(xa)):\n",
        "        er +=  ((ya[j] - (m1 * xa[j]) - c1))**2\n",
        "        #step 2 substitute x ,y in first order derivatives df/dx, df/dy\n",
        "        m = symbols('m')\n",
        "        c = symbols('c')\n",
        "        x = symbols('x')\n",
        "        y = symbols('y')\n",
        "        dfmv = dfm.subs(m, m1) \n",
        "        dfmv = dfmv.subs(c, c1) \n",
        "        dfmv = dfmv.subs(x, xa[j]) \n",
        "        dfmv = dfmv.subs(y, ya[j]) \n",
        "        dfmv = round(dfmv,2)\n",
        "        dfcv = dfc.subs(c, c1) \n",
        "        dfcv = dfcv.subs(m, m1) \n",
        "        dfcv = dfcv.subs(x, xa[j]) \n",
        "        dfcv = dfcv.subs(y, ya[j]) \n",
        "        dfcv = round(dfcv,2)\n",
        "        GM = GM + (dfmv**2)\n",
        "        GC = GC + (dfcv**2)\n",
        "        #step3 find change in x , y\n",
        "        dm = (-1.0)*(learning_rate/(GM+ep)**(0.5))*dfmv\n",
        "        dc = (-1.0)*(learning_rate/(GC+ep)**(0.5))*dfcv\n",
        "        #step4 update variable \n",
        "        m1 = m1 + dm\n",
        "        m1 = round(m1, 2) \n",
        "        c1 = c1 + dc\n",
        "        c1 = round(c1, 2)\n",
        "        \n",
        "        er = (1/(2*len(xa)))*(er)\n",
        "        err.append(er)\n",
        "    #step5 increment iterations \n",
        "    #step6 break loop if iterations exceed no of epoches\n",
        "#step7 print variable x1, y1\n",
        "print(m1, c1)\n",
        "print(f'minimum value obtained at m = {m1} ,c ={c1} for given function')\n"
      ],
      "execution_count": 12,
      "outputs": [
        {
          "output_type": "stream",
          "text": [
            "first order derivatives of given function are de/dm = -1.0*x*(-c - m*x + y) ,de/dc = 1.0*c + 1.0*m*x - 1.0*y\n",
            "0.26 0.28\n",
            "minimum value obtained at m = 0.26 ,c =0.28 for given function\n"
          ],
          "name": "stdout"
        }
      ]
    },
    {
      "cell_type": "markdown",
      "metadata": {
        "id": "iyzDRqt7vzb5"
      },
      "source": [
        "RMSE for Training Data"
      ]
    },
    {
      "cell_type": "code",
      "metadata": {
        "colab": {
          "base_uri": "https://localhost:8080/"
        },
        "id": "bBkMticnwExp",
        "outputId": "d6ce5923-f8cd-4990-9345-39ada42bec65"
      },
      "source": [
        "train_data_pred = [i for i in xa]\n",
        "for k in range(len(xa)):\n",
        "    train_data_pred[k]=(m1*xa[k] + c1)\n",
        "from sklearn.metrics import mean_squared_error\n",
        "mse = mean_squared_error(ya,train_data_pred)\n",
        "mse"
      ],
      "execution_count": 13,
      "outputs": [
        {
          "output_type": "execute_result",
          "data": {
            "text/plain": [
              "0.05165745956908731"
            ]
          },
          "metadata": {
            "tags": []
          },
          "execution_count": 13
        }
      ]
    },
    {
      "cell_type": "code",
      "metadata": {
        "colab": {
          "base_uri": "https://localhost:8080/",
          "height": 298
        },
        "id": "uTx_CeUNwJzb",
        "outputId": "afbe83d2-393f-4fe2-b788-620b6383eaec"
      },
      "source": [
        "plt.plot(np.array(xa),np.array(train_data_pred),'green')\n",
        "plt.scatter(np.array(xa),np.array(ya),color='red')\n",
        "plt.title('predicted data vs actual data')"
      ],
      "execution_count": 14,
      "outputs": [
        {
          "output_type": "execute_result",
          "data": {
            "text/plain": [
              "Text(0.5, 1.0, 'predicted data vs actual data')"
            ]
          },
          "metadata": {
            "tags": []
          },
          "execution_count": 14
        },
        {
          "output_type": "display_data",
          "data": {
            "image/png": "[encoded data removed]",
            "text/plain": [
              "<Figure size 432x288 with 1 Axes>"
            ]
          },
          "metadata": {
            "tags": [],
            "needs_background": "light"
          }
        }
      ]
    },
    {
      "cell_type": "code",
      "metadata": {
        "colab": {
          "base_uri": "https://localhost:8080/",
          "height": 295
        },
        "id": "tgWcaxmowPFa",
        "outputId": "fdfdffa0-da10-450a-db3a-e6bc86d3d59b"
      },
      "source": [
        "iters = np.arange(itr*len(xa))\n",
        "plt.plot(iters,err,'green')\n",
        "plt.title(\"Error graph for training data\")\n",
        "plt.xlabel(\"iteration count\")\n",
        "plt.ylabel(\"error\")\n",
        "plt.grid()\n"
      ],
      "execution_count": 15,
      "outputs": [
        {
          "output_type": "display_data",
          "data": {
            "image/png": "[encoded data removed]",
            "text/plain": [
              "<Figure size 432x288 with 1 Axes>"
            ]
          },
          "metadata": {
            "tags": [],
            "needs_background": "light"
          }
        }
      ]
    },
    {
      "cell_type": "markdown",
      "metadata": {
        "id": "xt3lcGmExHPt"
      },
      "source": [
        "Test Data"
      ]
    },
    {
      "cell_type": "code",
      "metadata": {
        "colab": {
          "base_uri": "https://localhost:8080/"
        },
        "id": "u5LBmZKpxJRw",
        "outputId": "9e32d0a6-9f07-48d0-eaf5-798c9ce0f20d"
      },
      "source": [
        "xa = []\n",
        "ya = []\n",
        "for i in range(len(test_data.iloc[:,0])-24):\n",
        "    xa.append(test_data.iloc[i,0])\n",
        "    ya.append(test_data.iloc[i+24,0])\n",
        "test_data_pred = [i for i in xa]\n",
        "for k in range(len(xa)):\n",
        "    test_data_pred[k]=(m1*xa[k] + c1)\n",
        "from sklearn.metrics import mean_squared_error\n",
        "mse = mean_squared_error(ya,test_data_pred)\n",
        "mse"
      ],
      "execution_count": 16,
      "outputs": [
        {
          "output_type": "execute_result",
          "data": {
            "text/plain": [
              "0.052264007936818645"
            ]
          },
          "metadata": {
            "tags": []
          },
          "execution_count": 16
        }
      ]
    },
    {
      "cell_type": "code",
      "metadata": {
        "colab": {
          "base_uri": "https://localhost:8080/",
          "height": 265
        },
        "id": "n7CYPV7fxROo",
        "outputId": "a3f326ba-d977-4f03-a16b-e2e5df19a72b"
      },
      "source": [
        "plt.scatter(xa,ya,color='red')\n",
        "plt.plot(xa,test_data_pred,'green')\n",
        "plt.grid()\n"
      ],
      "execution_count": 17,
      "outputs": [
        {
          "output_type": "display_data",
          "data": {
            "image/png": "[encoded data removed]",
            "text/plain": [
              "<Figure size 432x288 with 1 Axes>"
            ]
          },
          "metadata": {
            "tags": [],
            "needs_background": "light"
          }
        }
      ]
    },
    {
      "cell_type": "markdown",
      "metadata": {
        "id": "wdz1AKqFxbmE"
      },
      "source": [
        "Predict Output"
      ]
    },
    {
      "cell_type": "code",
      "metadata": {
        "colab": {
          "base_uri": "https://localhost:8080/"
        },
        "id": "EUsWvI4zxVzI",
        "outputId": "020ed10d-1903-4f55-9718-cb3b4aed04c1"
      },
      "source": [
        "x_max = y_max= 8841.669480\n",
        "x_min = y_min = 3377.919600\n",
        "x =x1 = float(input(\"enter load of previous hour :\"))\n",
        "x = (x - x_min)/(x_max - x_min)\n",
        "y = m1*x + c1\n",
        "y = y*(y_max - y_min) + y_min\n",
        "print(f\"load at hour based on its previous hour is : {y}\")\n"
      ],
      "execution_count": 18,
      "outputs": [
        {
          "output_type": "stream",
          "text": [
            "enter load of previous hour :5073\n",
            "load at hour based on its previous hour is : 5346.91933341797\n"
          ],
          "name": "stdout"
        }
      ]
    }
  ]
}