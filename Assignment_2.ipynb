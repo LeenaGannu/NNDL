{
  "nbformat": 4,
  "nbformat_minor": 0,
  "metadata": {
    "colab": {
      "name": "Assignment 2.ipynb",
      "provenance": [],
      "authorship_tag": "ABX9TyPFTSFNDmHYJ+2qN6cy0zQS",
      "include_colab_link": true
    },
    "kernelspec": {
      "name": "python3",
      "display_name": "Python 3"
    }
  },
  "cells": [
    {
      "cell_type": "markdown",
      "metadata": {
        "id": "view-in-github",
        "colab_type": "text"
      },
      "source": [
        "<a href=\"https://colab.research.google.com/github/LeenaGannu/NNDL/blob/main/Assignment_2.ipynb\" target=\"_parent\"><img src=\"https://colab.research.google.com/assets/colab-badge.svg\" alt=\"Open In Colab\"/></a>"
      ]
    },
    {
      "cell_type": "code",
      "metadata": {
        "colab": {
          "base_uri": "https://localhost:8080/"
        },
        "id": "nG02zlXiNHWR",
        "outputId": "ee0317cd-e145-4d4b-eaa2-29abc0a87955"
      },
      "source": [
        "#Initilaization of Parameters\r\n",
        "x_o = 2 #The algorithm starts at x=2\r\n",
        "y_o = 3 #The algorithm starts at y=3\r\n",
        "eta = 0.1 #Learning rate\r\n",
        "eps =0.000001 #This tells us when to stop the algorithm\r\n",
        "del_x = 1\r\n",
        "del_y = 1\r\n",
        "max_iters = 1000 #maximum number of iterations \r\n",
        "iters = 0 #iteration counter\r\n",
        "def deriv(x,y):\r\n",
        "    x_deriv = 2*(x)\r\n",
        "    y_deriv = 2*(y)\r\n",
        "    return x_deriv,y_deriv\r\n",
        "while max(abs(del_x),abs(del_y))>eps and iters<max_iters:\r\n",
        "  prev_x = x_o #Store current x value in prev_x\r\n",
        "  prev_y = y_o #Store current y value in prev_y\r\n",
        "  del_x = -eta*del_x\r\n",
        "  del_y = -eta*del_y\r\n",
        "  x_o = x_o+del_x #grad descent\r\n",
        "  y_o = y_o+del_x #grad descent\r\n",
        "  iters= iters+1 #iteration count\r\n",
        "  print(\"iteration\",iters,\"\\nX value is\",x_o,\"\\nY value is\",y_o) #print iterations\r\n",
        "print(\"The local minimum occurs at \",x_o,y_o)"
      ],
      "execution_count": 2,
      "outputs": [
        {
          "output_type": "stream",
          "text": [
            "iteration 1 \n",
            "X value is 1.9 \n",
            "Y value is 2.9\n",
            "iteration 2 \n",
            "X value is 1.91 \n",
            "Y value is 2.9099999999999997\n",
            "iteration 3 \n",
            "X value is 1.909 \n",
            "Y value is 2.909\n",
            "iteration 4 \n",
            "X value is 1.9091 \n",
            "Y value is 2.9091\n",
            "iteration 5 \n",
            "X value is 1.90909 \n",
            "Y value is 2.90909\n",
            "iteration 6 \n",
            "X value is 1.9090909999999999 \n",
            "Y value is 2.909091\n",
            "iteration 7 \n",
            "X value is 1.9090908999999998 \n",
            "Y value is 2.9090909000000003\n",
            "The local minimum occurs at  1.9090908999999998 2.9090909000000003\n"
          ],
          "name": "stdout"
        }
      ]
    }
  ]
}